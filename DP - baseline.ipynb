{
 "cells": [
  {
   "cell_type": "code",
   "execution_count": 27,
   "metadata": {},
   "outputs": [
    {
     "name": "stdout",
     "output_type": "stream",
     "text": [
      "--- 0.05013585090637207 seconds ---\n"
     ]
    }
   ],
   "source": [
    "import time\n",
    "import numpy as np\n",
    "\n",
    "start_time = time.time()\n",
    "\n",
    "n = 7\n",
    "\n",
    "def find3Numbers(A, arr_size, sum):\n",
    "  triplets = []\n",
    "  for i in range(0, arr_size-1):\n",
    "    l = i\n",
    "    r = arr_size-1\n",
    "    while (l <= r):   \n",
    "      if( A[i] + A[l] + A[r] == sum):\n",
    "        #print(\"Triplet is\", A[i],', ', A[l], ', ', A[r])\n",
    "        triplets.append([A[i],A[l],A[r]])\n",
    "        l += 1        \n",
    "      elif (A[i] + A[l] + A[r] < sum):\n",
    "        l += 1\n",
    "      else:\n",
    "        r -= 1\n",
    "  return triplets\n",
    "\n",
    "A = np.arange(n+1)\n",
    "sum = max(A)\n",
    "arr_size = len(A)\n",
    "\n",
    "## TODO: Make it set - or restrictions\n",
    "triplets = find3Numbers(A, arr_size, sum)\n",
    "triplets_reel = []\n",
    " \n",
    "for t in triplets:\n",
    "    triplets_reel.append([t[0],t[1],t[2]])\n",
    "    \n",
    "    if t[0]==t[1]==t[2]:\n",
    "        continue\n",
    "    \n",
    "    if t[0]==t[1]:\n",
    "        triplets_reel.append([t[2],t[1],t[0]])\n",
    "        triplets_reel.append([t[0],t[2],t[1]])\n",
    "        continue\n",
    "    if t[1]==t[2]:   \n",
    "        triplets_reel.append([t[1],t[0],t[2]])\n",
    "        triplets_reel.append([t[2],t[1],t[0]])\n",
    "        continue\n",
    "        \n",
    "    if t[0]==t[2]:  \n",
    "        triplets_reel.append([t[0],t[2],t[1]])\n",
    "        triplets_reel.append([t[1],t[0],t[2]])\n",
    "        continue\n",
    "        \n",
    "    triplets_reel.append([t[0],t[2],t[1]])    \n",
    "    triplets_reel.append([t[1],t[2],t[0]])\n",
    "    triplets_reel.append([t[1],t[0],t[2]])\n",
    "    triplets_reel.append([t[2],t[0],t[1]])\n",
    "    triplets_reel.append([t[2],t[1],t[0]])\n",
    "\n",
    "\n",
    "triplet_list = np.array(triplets_reel)\n",
    "#print(triplet)\n",
    "print(\"--- %s seconds ---\" % (time.time() - start_time))"
   ]
  },
  {
   "cell_type": "code",
   "execution_count": 28,
   "metadata": {
    "scrolled": true
   },
   "outputs": [
    {
     "data": {
      "text/plain": [
       "36"
      ]
     },
     "execution_count": 28,
     "metadata": {},
     "output_type": "execute_result"
    }
   ],
   "source": [
    "len(triplet_list)"
   ]
  },
  {
   "cell_type": "code",
   "execution_count": 29,
   "metadata": {},
   "outputs": [],
   "source": [
    "resulting_list = np.zeros((len(triplet_list)),dtype=bool)\n",
    "pos_avail_info = np.ones((3,n+1),dtype=bool)"
   ]
  },
  {
   "cell_type": "code",
   "execution_count": 30,
   "metadata": {},
   "outputs": [],
   "source": [
    "def check_pos(positional_info, triplet):\n",
    "    return positional_info[0, triplet[0]] and positional_info[1, triplet[1]] and positional_info[2, triplet[2]] "
   ]
  },
  {
   "cell_type": "code",
   "execution_count": 31,
   "metadata": {},
   "outputs": [],
   "source": [
    "def update_pos(positional_info, triplet):\n",
    "    new_pos_info = positional_info.copy()\n",
    "    new_pos_info[0, triplet[0]] = False\n",
    "    new_pos_info[1, triplet[1]] = False\n",
    "    new_pos_info[2, triplet[2]] = False\n",
    "    return new_pos_info\n",
    "def update_res_list(res_list, step):\n",
    "    new_res_list = res_list.copy()\n",
    "    new_res_list[step]=True\n",
    "    return new_res_list"
   ]
  },
  {
   "cell_type": "code",
   "execution_count": 32,
   "metadata": {},
   "outputs": [],
   "source": [
    "def memoize(f):\n",
    "    memo = {}\n",
    "    def helper(step, *args):\n",
    "        if step not in memo:            \n",
    "            memo[step] = f(step, *args)\n",
    "        return memo[step]\n",
    "    return helper"
   ]
  },
  {
   "cell_type": "code",
   "execution_count": 33,
   "metadata": {},
   "outputs": [
    {
     "data": {
      "text/plain": [
       "array([[0, 0, 7],\n",
       "       [7, 0, 0],\n",
       "       [0, 7, 0],\n",
       "       [0, 1, 6],\n",
       "       [0, 6, 1],\n",
       "       [1, 6, 0],\n",
       "       [1, 0, 6],\n",
       "       [6, 0, 1],\n",
       "       [6, 1, 0],\n",
       "       [0, 2, 5],\n",
       "       [0, 5, 2],\n",
       "       [2, 5, 0],\n",
       "       [2, 0, 5],\n",
       "       [5, 0, 2],\n",
       "       [5, 2, 0],\n",
       "       [0, 3, 4],\n",
       "       [0, 4, 3],\n",
       "       [3, 4, 0],\n",
       "       [3, 0, 4],\n",
       "       [4, 0, 3],\n",
       "       [4, 3, 0],\n",
       "       [1, 1, 5],\n",
       "       [5, 1, 1],\n",
       "       [1, 5, 1],\n",
       "       [1, 2, 4],\n",
       "       [1, 4, 2],\n",
       "       [2, 4, 1],\n",
       "       [2, 1, 4],\n",
       "       [4, 1, 2],\n",
       "       [4, 2, 1],\n",
       "       [1, 3, 3],\n",
       "       [3, 1, 3],\n",
       "       [3, 3, 1],\n",
       "       [2, 2, 3],\n",
       "       [3, 2, 2],\n",
       "       [2, 3, 2]])"
      ]
     },
     "execution_count": 33,
     "metadata": {},
     "output_type": "execute_result"
    }
   ],
   "source": [
    "memoized = {}\n",
    "triplet_list"
   ]
  },
  {
   "cell_type": "code",
   "execution_count": 34,
   "metadata": {},
   "outputs": [],
   "source": [
    "# TODO: global vs local triplet_list\n",
    "def recursive_dp(current_step, positional_info, triplet_list, resulting_list):\n",
    "    current_triplet = triplet_list[current_step]\n",
    "    #print(positional_info)\n",
    "    if current_step == 0:\n",
    "        return  0, resulting_list\n",
    "    if not check_pos(positional_info, current_triplet):\n",
    "        return recursive_dp(current_step - 1, positional_info.copy(), triplet_list, resulting_list)\n",
    "    \n",
    "    no_update_size, no_update_result = recursive_dp(current_step - 1, positional_info.copy(), triplet_list, resulting_list) \n",
    "    update_size, update_result = recursive_dp(current_step - 1, update_pos(positional_info, current_triplet), triplet_list, update_res_list(resulting_list, current_step))\n",
    "    update_size += 1\n",
    "    \n",
    "    if no_update_size < update_size:\n",
    "        return update_size, update_result\n",
    "    return no_update_size, no_update_result"
   ]
  },
  {
   "cell_type": "code",
   "execution_count": 35,
   "metadata": {},
   "outputs": [
    {
     "name": "stdout",
     "output_type": "stream",
     "text": [
      "--- 0.06795692443847656 seconds ---\n"
     ]
    }
   ],
   "source": [
    "start_time = time.time()\n",
    "num, res = recursive_dp(len(triplet_list)-1,pos_avail_info,triplet_list,resulting_list)\n",
    "print(\"--- %s seconds ---\" % (time.time() - start_time))"
   ]
  },
  {
   "cell_type": "code",
   "execution_count": 36,
   "metadata": {},
   "outputs": [
    {
     "data": {
      "text/plain": [
       "array([[0, 0, 7],\n",
       "       [7, 0, 0],\n",
       "       [0, 7, 0],\n",
       "       [0, 1, 6],\n",
       "       [0, 6, 1],\n",
       "       [1, 6, 0],\n",
       "       [1, 0, 6],\n",
       "       [6, 0, 1],\n",
       "       [6, 1, 0],\n",
       "       [0, 2, 5],\n",
       "       [0, 5, 2],\n",
       "       [2, 5, 0],\n",
       "       [2, 0, 5],\n",
       "       [5, 0, 2],\n",
       "       [5, 2, 0],\n",
       "       [0, 3, 4],\n",
       "       [0, 4, 3],\n",
       "       [3, 4, 0],\n",
       "       [3, 0, 4],\n",
       "       [4, 0, 3],\n",
       "       [4, 3, 0],\n",
       "       [1, 1, 5],\n",
       "       [5, 1, 1],\n",
       "       [1, 5, 1],\n",
       "       [1, 2, 4],\n",
       "       [1, 4, 2],\n",
       "       [2, 4, 1],\n",
       "       [2, 1, 4],\n",
       "       [4, 1, 2],\n",
       "       [4, 2, 1],\n",
       "       [1, 3, 3],\n",
       "       [3, 1, 3],\n",
       "       [3, 3, 1],\n",
       "       [2, 2, 3],\n",
       "       [3, 2, 2],\n",
       "       [2, 3, 2]])"
      ]
     },
     "execution_count": 36,
     "metadata": {},
     "output_type": "execute_result"
    }
   ],
   "source": [
    "triplet_list"
   ]
  },
  {
   "cell_type": "code",
   "execution_count": 37,
   "metadata": {},
   "outputs": [
    {
     "data": {
      "text/plain": [
       "array([[0, 5, 2],\n",
       "       [2, 0, 5],\n",
       "       [3, 4, 0],\n",
       "       [5, 1, 1],\n",
       "       [1, 2, 4]])"
      ]
     },
     "execution_count": 37,
     "metadata": {},
     "output_type": "execute_result"
    }
   ],
   "source": [
    "triplet_list[res]"
   ]
  },
  {
   "cell_type": "code",
   "execution_count": 30,
   "metadata": {},
   "outputs": [
    {
     "data": {
      "text/plain": [
       "7"
      ]
     },
     "execution_count": 30,
     "metadata": {},
     "output_type": "execute_result"
    }
   ],
   "source": [
    "num"
   ]
  },
  {
   "cell_type": "code",
   "execution_count": 31,
   "metadata": {},
   "outputs": [],
   "source": [
    "mem = memoize(recursive_dp)"
   ]
  },
  {
   "cell_type": "code",
   "execution_count": 32,
   "metadata": {},
   "outputs": [
    {
     "name": "stdout",
     "output_type": "stream",
     "text": [
      "--- 4.669327974319458 seconds ---\n"
     ]
    }
   ],
   "source": [
    "start_time = time.time()\n",
    "num, res = mem(len(triplet_list)-1,pos_avail_info,triplet_list,resulting_list)\n",
    "print(\"--- %s seconds ---\" % (time.time() - start_time))"
   ]
  },
  {
   "cell_type": "code",
   "execution_count": 33,
   "metadata": {},
   "outputs": [
    {
     "data": {
      "text/plain": [
       "array([[0, 3, 7],\n",
       "       [6, 0, 4],\n",
       "       [5, 5, 0],\n",
       "       [7, 1, 2],\n",
       "       [3, 6, 1],\n",
       "       [1, 4, 5],\n",
       "       [2, 2, 6]])"
      ]
     },
     "execution_count": 33,
     "metadata": {},
     "output_type": "execute_result"
    }
   ],
   "source": [
    "triplet_list[res]"
   ]
  },
  {
   "cell_type": "code",
   "execution_count": null,
   "metadata": {},
   "outputs": [],
   "source": []
  }
 ],
 "metadata": {
  "kernelspec": {
   "display_name": "Python 3",
   "language": "python",
   "name": "python3"
  },
  "language_info": {
   "codemirror_mode": {
    "name": "ipython",
    "version": 3
   },
   "file_extension": ".py",
   "mimetype": "text/x-python",
   "name": "python",
   "nbconvert_exporter": "python",
   "pygments_lexer": "ipython3",
   "version": "3.8.5"
  }
 },
 "nbformat": 4,
 "nbformat_minor": 4
}
