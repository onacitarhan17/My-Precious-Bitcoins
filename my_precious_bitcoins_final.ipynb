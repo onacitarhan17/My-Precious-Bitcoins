{
 "cells": [
  {
   "cell_type": "code",
   "execution_count": null,
   "metadata": {
    "scrolled": true
   },
   "outputs": [],
   "source": [
    "using Pkg;Pkg.update()"
   ]
  },
  {
   "cell_type": "code",
   "execution_count": null,
   "metadata": {},
   "outputs": [],
   "source": [
    "using Random\n",
    "using Printf"
   ]
  },
  {
   "cell_type": "code",
   "execution_count": null,
   "metadata": {},
   "outputs": [],
   "source": [
    "function sanity_check(solution_list,n)\n",
    "    position_arr = zeros(Bool,3,n+1)\n",
    "    for (x,y,z) in solution_list\n",
    "            (position_arr[1,x+1] || position_arr[2,y+1] || position_arr[3,z+1]) && return false\n",
    "            position_arr[1,x+1] = true\n",
    "            position_arr[2,y+1] = true\n",
    "            position_arr[3,z+1] = true    \n",
    "    end\n",
    "    return true\n",
    "end"
   ]
  },
  {
   "cell_type": "code",
   "execution_count": null,
   "metadata": {},
   "outputs": [],
   "source": [
    "function restricted_stepwise(n,k)\n",
    "    mode = n%3\n",
    "    res_list = []\n",
    "    x = n-k\n",
    "    y = 0\n",
    "    z = k\n",
    "    \n",
    "    # mini mode updates\n",
    "    if mode == 0 \n",
    "        x+=1 \n",
    "        z-=1\n",
    "    end\n",
    "    \n",
    "    while z >= 0\n",
    "        push!(res_list,(x,y,z))\n",
    "        x += 1\n",
    "        y += 1\n",
    "        z -= 2\n",
    "    end\n",
    "    x = 0\n",
    "    z = n - y\n",
    "    \n",
    "    # mini mode updates\n",
    "    if mode == 2 \n",
    "        y+=1\n",
    "        z-=1\n",
    "    end\n",
    "    \n",
    "    while z >= 0\n",
    "        push!(res_list,(x,y,z))\n",
    "        x += 1\n",
    "        y += 1\n",
    "        z -= 2\n",
    "    end\n",
    "    length(res_list),res_list\n",
    "end"
   ]
  },
  {
   "cell_type": "code",
   "execution_count": null,
   "metadata": {
    "scrolled": true
   },
   "outputs": [],
   "source": [
    "print(\"Input: \") \n",
    "n = readline()\n",
    "n = parse(Int64, n)"
   ]
  },
  {
   "cell_type": "code",
   "execution_count": null,
   "metadata": {},
   "outputs": [],
   "source": [
    "\n",
    "k = Int(floor(2*n/3)+1)\n",
    "@time res_len, res = restricted_stepwise(n,k)"
   ]
  },
  {
   "cell_type": "code",
   "execution_count": null,
   "metadata": {},
   "outputs": [],
   "source": [
    "sanity_check(res,n)"
   ]
  },
  {
   "cell_type": "code",
   "execution_count": null,
   "metadata": {},
   "outputs": [],
   "source": [
    "show(res)"
   ]
  },
  {
   "cell_type": "code",
   "execution_count": null,
   "metadata": {},
   "outputs": [],
   "source": []
  }
 ],
 "metadata": {
  "kernelspec": {
   "display_name": "Julia 1.6.1",
   "language": "julia",
   "name": "julia-1.6"
  },
  "language_info": {
   "file_extension": ".jl",
   "mimetype": "application/julia",
   "name": "julia",
   "version": "1.6.1"
  }
 },
 "nbformat": 4,
 "nbformat_minor": 4
}
