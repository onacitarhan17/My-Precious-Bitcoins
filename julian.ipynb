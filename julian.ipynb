{
 "cells": [
  {
   "cell_type": "code",
   "execution_count": 1,
   "metadata": {
    "scrolled": true
   },
   "outputs": [
    {
     "name": "stderr",
     "output_type": "stream",
     "text": [
      "\u001b[32m\u001b[1m   Updating\u001b[22m\u001b[39m registry at `C:\\Users\\USER\\.julia\\registries\\General`\n",
      "\u001b[32m\u001b[1m   Updating\u001b[22m\u001b[39m git-repo `https://github.com/ilkerkesen/Sloth.jl`\n"
     ]
    },
    {
     "name": "stdout",
     "output_type": "stream",
     "text": [
      "\u001b[?25l\u001b[2K\u001b[?25h"
     ]
    },
    {
     "name": "stderr",
     "output_type": "stream",
     "text": [
      "\u001b[32m\u001b[1m  Installed\u001b[22m\u001b[39m Images ────────────────── v0.24.1\n",
      "\u001b[32m\u001b[1m  Installed\u001b[22m\u001b[39m ImageMagick ───────────── v1.2.1\n",
      "\u001b[32m\u001b[1m  Installed\u001b[22m\u001b[39m IJulia ────────────────── v1.23.2\n",
      "\u001b[32m\u001b[1m  Installed\u001b[22m\u001b[39m PyCall ────────────────── v1.92.3\n",
      "\u001b[32m\u001b[1m  Installed\u001b[22m\u001b[39m Plots ─────────────────── v1.15.2\n",
      "\u001b[32m\u001b[1m  Installed\u001b[22m\u001b[39m PlotlyJS ──────────────── v0.14.1\n",
      "\u001b[32m\u001b[1m  Installed\u001b[22m\u001b[39m Tokenize ──────────────── v0.5.16\n",
      "\u001b[32m\u001b[1m  Installed\u001b[22m\u001b[39m ImageAxes ─────────────── v0.6.9\n",
      "\u001b[32m\u001b[1m  Installed\u001b[22m\u001b[39m PNGFiles ──────────────── v0.3.7\n",
      "\u001b[32m\u001b[1m  Installed\u001b[22m\u001b[39m ImageTransformations ──── v0.8.12\n",
      "\u001b[32m\u001b[1m  Installed\u001b[22m\u001b[39m Static ────────────────── v0.2.4\n",
      "\u001b[32m\u001b[1m  Installed\u001b[22m\u001b[39m Distributions ─────────── v0.23.8\n",
      "\u001b[32m\u001b[1m  Installed\u001b[22m\u001b[39m CatIndices ────────────── v0.2.2\n",
      "\u001b[32m\u001b[1m  Installed\u001b[22m\u001b[39m Preferences ───────────── v1.2.2\n",
      "\u001b[32m\u001b[1m  Installed\u001b[22m\u001b[39m TensorCore ────────────── v0.1.1\n",
      "\u001b[32m\u001b[1m  Installed\u001b[22m\u001b[39m IntelOpenMP_jll ───────── v2018.0.3+2\n",
      "\u001b[32m\u001b[1m  Installed\u001b[22m\u001b[39m CUDA ──────────────────── v2.4.3\n",
      "\u001b[32m\u001b[1m  Installed\u001b[22m\u001b[39m Knet ──────────────────── v1.4.6\n",
      "\u001b[32m\u001b[1m  Installed\u001b[22m\u001b[39m ImageFiltering ────────── v0.6.21\n",
      "\u001b[32m\u001b[1m  Installed\u001b[22m\u001b[39m ImageShow ─────────────── v0.3.1\n",
      "\u001b[32m\u001b[1m  Installed\u001b[22m\u001b[39m ImageMetadata ─────────── v0.9.5\n",
      "\u001b[32m\u001b[1m  Installed\u001b[22m\u001b[39m Parsers ───────────────── v1.1.0\n",
      "\u001b[32m\u001b[1m  Installed\u001b[22m\u001b[39m ArrayLayouts ──────────── v0.3.8\n",
      "\u001b[32m\u001b[1m  Installed\u001b[22m\u001b[39m FillArrays ────────────── v0.8.14\n",
      "\u001b[32m\u001b[1m  Installed\u001b[22m\u001b[39m Colors ────────────────── v0.12.8\n",
      "\u001b[32m\u001b[1m  Installed\u001b[22m\u001b[39m OffsetArrays ──────────── v1.9.1\n",
      "\u001b[32m\u001b[1m  Installed\u001b[22m\u001b[39m Documenter ────────────── v0.26.3\n",
      "\u001b[32m\u001b[1m  Installed\u001b[22m\u001b[39m CustomUnitRanges ──────── v1.0.1\n",
      "\u001b[32m\u001b[1m  Installed\u001b[22m\u001b[39m Graphics ──────────────── v1.1.0\n",
      "\u001b[32m\u001b[1m  Installed\u001b[22m\u001b[39m Blosc_jll ─────────────── v1.21.0+0\n",
      "\u001b[32m\u001b[1m  Installed\u001b[22m\u001b[39m Qt5Base_jll ───────────── v5.15.2+0\n",
      "\u001b[32m\u001b[1m  Installed\u001b[22m\u001b[39m Missings ──────────────── v1.0.0\n",
      "\u001b[32m\u001b[1m  Installed\u001b[22m\u001b[39m MappedArrays ──────────── v0.4.0\n",
      "\u001b[32m\u001b[1m  Installed\u001b[22m\u001b[39m EllipsisNotation ──────── v1.1.0\n",
      "\u001b[32m\u001b[1m  Installed\u001b[22m\u001b[39m TiffImages ────────────── v0.3.2\n",
      "\u001b[32m\u001b[1m  Installed\u001b[22m\u001b[39m PlotThemes ────────────── v2.0.1\n",
      "\u001b[32m\u001b[1m  Installed\u001b[22m\u001b[39m GLFW_jll ──────────────── v3.3.4+0\n",
      "\u001b[32m\u001b[1m  Installed\u001b[22m\u001b[39m SortingAlgorithms ─────── v1.0.0\n",
      "\u001b[32m\u001b[1m  Installed\u001b[22m\u001b[39m Widgets ───────────────── v0.6.3\n",
      "\u001b[32m\u001b[1m  Installed\u001b[22m\u001b[39m DocStringExtensions ───── v0.8.4\n",
      "\u001b[32m\u001b[1m  Installed\u001b[22m\u001b[39m JuliaInterpreter ──────── v0.8.16\n",
      "\u001b[32m\u001b[1m  Installed\u001b[22m\u001b[39m ImageIO ───────────────── v0.5.4\n",
      "\u001b[32m\u001b[1m  Installed\u001b[22m\u001b[39m IntervalSets ──────────── v0.5.3\n",
      "\u001b[32m\u001b[1m  Installed\u001b[22m\u001b[39m Tables ────────────────── v1.4.3\n",
      "\u001b[32m\u001b[1m  Installed\u001b[22m\u001b[39m MLDatasets ────────────── v0.5.6\n",
      "\u001b[32m\u001b[1m  Installed\u001b[22m\u001b[39m FileIO ────────────────── v1.9.0\n",
      "\u001b[32m\u001b[1m  Installed\u001b[22m\u001b[39m ImageQualityIndexes ───── v0.2.2\n",
      "\u001b[32m\u001b[1m  Installed\u001b[22m\u001b[39m ForwardDiff ───────────── v0.10.18\n",
      "\u001b[32m\u001b[1m  Installed\u001b[22m\u001b[39m TOML ──────────────────── v1.0.3\n",
      "\u001b[32m\u001b[1m  Installed\u001b[22m\u001b[39m GR ────────────────────── v0.57.5\n",
      "\u001b[32m\u001b[1m  Installed\u001b[22m\u001b[39m ImageMorphology ───────── v0.2.11\n",
      "\u001b[32m\u001b[1m  Installed\u001b[22m\u001b[39m ProgressMeter ─────────── v1.6.2\n",
      "┌ Info: Replacing symlinks in tarball by their source files ...\n",
      "│ \"docs\\\\src\\\\LICENSE.md\" => \"docs\\\\src\\\\../../LICENSE.md\"\n",
      "└ @ Pkg.PlatformEngines C:\\buildbot\\worker\\package_win64\\build\\usr\\share\\julia\\stdlib\\v1.5\\Pkg\\src\\PlatformEngines.jl:996\n",
      "\u001b[32m\u001b[1m  Installed\u001b[22m\u001b[39m GPUArrays ─────────────── v6.4.1\n",
      "\u001b[32m\u001b[1m  Installed\u001b[22m\u001b[39m OrderedCollections ────── v1.4.1\n",
      "\u001b[32m\u001b[1m  Installed\u001b[22m\u001b[39m ImageCore ─────────────── v0.8.22\n",
      "\u001b[32m\u001b[1m  Installed\u001b[22m\u001b[39m StatsFuns ─────────────── v0.9.8\n",
      "\u001b[32m\u001b[1m  Installed\u001b[22m\u001b[39m NNlib ─────────────────── v0.7.11\n",
      "\u001b[32m\u001b[1m  Installed\u001b[22m\u001b[39m Netpbm ────────────────── v1.0.1\n",
      "\u001b[32m\u001b[1m  Installed\u001b[22m\u001b[39m LogExpFunctions ───────── v0.2.4\n",
      "\u001b[32m\u001b[1m  Installed\u001b[22m\u001b[39m Rmath_jll ─────────────── v0.2.2+2\n",
      "\u001b[32m\u001b[1m  Installed\u001b[22m\u001b[39m Showoff ───────────────── v1.0.3\n",
      "\u001b[32m\u001b[1m  Installed\u001b[22m\u001b[39m ColorSchemes ──────────── v3.12.1\n",
      "\u001b[32m\u001b[1m  Installed\u001b[22m\u001b[39m AbstractTrees ─────────── v0.3.4\n",
      "\u001b[32m\u001b[1m  Installed\u001b[22m\u001b[39m StringDistances ───────── v0.10.0\n",
      "\u001b[32m\u001b[1m  Installed\u001b[22m\u001b[39m Blink ─────────────────── v0.12.5\n",
      "\u001b[32m\u001b[1m  Installed\u001b[22m\u001b[39m LLVM ──────────────────── v3.7.1\n",
      "\u001b[32m\u001b[1m  Installed\u001b[22m\u001b[39m MosaicViews ───────────── v0.3.3\n",
      "\u001b[32m\u001b[1m  Installed\u001b[22m\u001b[39m DocSeeker ─────────────── v0.4.3\n",
      "\u001b[32m\u001b[1m  Installed\u001b[22m\u001b[39m ImageDistances ────────── v0.2.13\n",
      "\u001b[32m\u001b[1m  Installed\u001b[22m\u001b[39m PlotUtils ─────────────── v1.0.10\n",
      "\u001b[32m\u001b[1m  Installed\u001b[22m\u001b[39m WebSockets ────────────── v1.5.9\n",
      "\u001b[32m\u001b[1m  Installed\u001b[22m\u001b[39m Zygote ────────────────── v0.5.2\n",
      "\u001b[32m\u001b[1m  Installed\u001b[22m\u001b[39m StackViews ────────────── v0.1.1\n",
      "\u001b[32m\u001b[1m  Installed\u001b[22m\u001b[39m ArrayInterface ────────── v3.1.15\n",
      "\u001b[32m\u001b[1m  Installed\u001b[22m\u001b[39m JuliaFormatter ────────── v0.12.3\n",
      "\u001b[32m\u001b[1m  Installed\u001b[22m\u001b[39m DataAPI ───────────────── v1.6.0\n",
      "\u001b[32m\u001b[1m  Installed\u001b[22m\u001b[39m StatsAPI ──────────────── v1.0.0\n",
      "\u001b[32m\u001b[1m  Installed\u001b[22m\u001b[39m Requires ──────────────── v1.1.3\n",
      "\u001b[32m\u001b[1m  Installed\u001b[22m\u001b[39m JLLWrappers ───────────── v1.3.0\n",
      "\u001b[32m\u001b[1m  Installed\u001b[22m\u001b[39m TiledIteration ────────── v0.3.0\n",
      "\u001b[32m\u001b[1m  Installed\u001b[22m\u001b[39m Grisu ─────────────────── v1.0.2\n",
      "┌ Info: Replacing symlinks in tarball by their source files ...\n",
      "│ \"docs\\\\src\\\\NEWS.md\" => \"docs\\\\src\\\\../../NEWS.md\"\n",
      "└ @ Pkg.PlatformEngines C:\\buildbot\\worker\\package_win64\\build\\usr\\share\\julia\\stdlib\\v1.5\\Pkg\\src\\PlatformEngines.jl:996\n",
      "\u001b[32m\u001b[1m  Installed\u001b[22m\u001b[39m libsodium_jll ─────────── v1.0.19+0\n",
      "\u001b[32m\u001b[1m  Installed\u001b[22m\u001b[39m Interpolations ────────── v0.13.2\n",
      "\u001b[32m\u001b[1m  Installed\u001b[22m\u001b[39m JSExpr ────────────────── v0.5.3\n",
      "\u001b[32m\u001b[1m  Installed\u001b[22m\u001b[39m Distances ─────────────── v0.10.3\n",
      "\u001b[32m\u001b[1m  Installed\u001b[22m\u001b[39m RecipesPipeline ───────── v0.3.2\n",
      "\u001b[32m\u001b[1m  Installed\u001b[22m\u001b[39m TimerOutputs ──────────── v0.5.9\n",
      "\u001b[32m\u001b[1m  Installed\u001b[22m\u001b[39m StatsBase ─────────────── v0.33.8\n",
      "\u001b[32m\u001b[1m  Installed\u001b[22m\u001b[39m StaticArrays ──────────── v1.2.1\n",
      "\u001b[32m\u001b[1m  Installed\u001b[22m\u001b[39m Zstd_jll ──────────────── v1.4.8+0\n",
      "\u001b[32m\u001b[1m  Installed\u001b[22m\u001b[39m LaTeXStrings ──────────── v1.2.1\n",
      "\u001b[32m\u001b[1m  Installed\u001b[22m\u001b[39m PaddedViews ───────────── v0.5.8\n",
      "\u001b[32m\u001b[1m  Installed\u001b[22m\u001b[39m ChainRulesCore ────────── v0.9.45\n",
      "\u001b[32m\u001b[1m  Installed\u001b[22m\u001b[39m Conda ─────────────────── v1.5.2\n",
      "\u001b[32m\u001b[1m  Installed\u001b[22m\u001b[39m DataDeps ──────────────── v0.7.7\n",
      "\u001b[32m\u001b[1m  Installed\u001b[22m\u001b[39m FuzzyCompletions ──────── v0.4.1\n",
      "\u001b[32m\u001b[1m  Installed\u001b[22m\u001b[39m ColorTypes ────────────── v0.10.12\n",
      "\u001b[32m\u001b[1m  Installed\u001b[22m\u001b[39m Parameters ────────────── v0.12.2\n",
      "\u001b[32m\u001b[1m  Installed\u001b[22m\u001b[39m PkgVersion ────────────── v0.1.1\n",
      "\u001b[32m\u001b[1m  Installed\u001b[22m\u001b[39m GR_jll ────────────────── v0.57.3+0\n",
      "\u001b[32m\u001b[1m  Installed\u001b[22m\u001b[39m TableTraits ───────────── v1.0.1\n",
      "\u001b[32m\u001b[1m  Installed\u001b[22m\u001b[39m ZeroMQ_jll ────────────── v4.3.2+6\n",
      "\u001b[32m\u001b[1m  Installed\u001b[22m\u001b[39m Latexify ──────────────── v0.15.6\n",
      "\u001b[32m\u001b[1m  Installed\u001b[22m\u001b[39m ColorVectorSpace ──────── v0.9.5\n",
      "\u001b[32m\u001b[1m  Installed\u001b[22m\u001b[39m Mux ───────────────────── v0.7.6\n",
      "\u001b[32m\u001b[1m  Installed\u001b[22m\u001b[39m StructArrays ──────────── v0.5.1\n",
      "\u001b[32m\u001b[1m  Installed\u001b[22m\u001b[39m GeometryBasics ────────── v0.3.12\n",
      "\u001b[32m\u001b[1m  Installed\u001b[22m\u001b[39m ImageContrastAdjustment ─ v0.3.7\n",
      "\u001b[32m\u001b[1mUpdating\u001b[22m\u001b[39m `C:\\Users\\USER\\.julia\\environments\\v1.5\\Project.toml`\n",
      " \u001b[90m [052768ef] \u001b[39m\u001b[93m↑ CUDA v2.3.0 ⇒ v2.4.3\u001b[39m\n",
      " \u001b[90m [7073ff75] \u001b[39m\u001b[93m↑ IJulia v1.23.1 ⇒ v1.23.2\u001b[39m\n",
      " \u001b[90m [6218d12a] \u001b[39m\u001b[93m↑ ImageMagick v1.1.6 ⇒ v1.2.1\u001b[39m\n",
      " \u001b[90m [916415d5] \u001b[39m\u001b[93m↑ Images v0.23.3 ⇒ v0.24.1\u001b[39m\n",
      " \u001b[90m [1902f260] \u001b[39m\u001b[93m↑ Knet v1.4.5 ⇒ v1.4.6\u001b[39m\n",
      " \u001b[90m [f0f68f2c] \u001b[39m\u001b[93m↑ PlotlyJS v0.14.0 ⇒ v0.14.1\u001b[39m\n",
      " \u001b[90m [91a5bcdd] \u001b[39m\u001b[93m↑ Plots v1.10.0 ⇒ v1.15.2\u001b[39m\n",
      " \u001b[90m [438e738f] \u001b[39m\u001b[93m↑ PyCall v1.92.2 ⇒ v1.92.3\u001b[39m\n",
      "\u001b[32m\u001b[1mUpdating\u001b[22m\u001b[39m `C:\\Users\\USER\\.julia\\environments\\v1.5\\Manifest.toml`\n",
      " \u001b[90m [1520ce14] \u001b[39m\u001b[93m↑ AbstractTrees v0.3.3 ⇒ v0.3.4\u001b[39m\n",
      " \u001b[90m [4fba245c] \u001b[39m\u001b[93m↑ ArrayInterface v2.14.13 ⇒ v3.1.15\u001b[39m\n",
      " \u001b[90m [4c555306] \u001b[39m\u001b[95m↓ ArrayLayouts v0.4.7 ⇒ v0.3.8\u001b[39m\n",
      " \u001b[90m [ad839575] \u001b[39m\u001b[93m↑ Blink v0.12.3 ⇒ v0.12.5\u001b[39m\n",
      " \u001b[90m [0b7ba130] \u001b[39m\u001b[93m↑ Blosc_jll v1.14.3+1 ⇒ v1.21.0+0\u001b[39m\n",
      " \u001b[90m [052768ef] \u001b[39m\u001b[93m↑ CUDA v2.3.0 ⇒ v2.4.3\u001b[39m\n",
      " \u001b[90m [aafaddc9] \u001b[39m\u001b[93m↑ CatIndices v0.2.1 ⇒ v0.2.2\u001b[39m\n",
      " \u001b[90m [d360d2e6] \u001b[39m\u001b[93m↑ ChainRulesCore v0.9.24 ⇒ v0.9.45\u001b[39m\n",
      " \u001b[90m [35d6a980] \u001b[39m\u001b[93m↑ ColorSchemes v3.10.2 ⇒ v3.12.1\u001b[39m\n",
      " \u001b[90m [3da002f7] \u001b[39m\u001b[93m↑ ColorTypes v0.10.9 ⇒ v0.10.12\u001b[39m\n",
      " \u001b[90m [c3611d14] \u001b[39m\u001b[93m↑ ColorVectorSpace v0.8.7 ⇒ v0.9.5\u001b[39m\n",
      " \u001b[90m [5ae59095] \u001b[39m\u001b[93m↑ Colors v0.12.6 ⇒ v0.12.8\u001b[39m\n",
      " \u001b[90m [8f4d0f93] \u001b[39m\u001b[93m↑ Conda v1.5.0 ⇒ v1.5.2\u001b[39m\n",
      " \u001b[90m [dc8bdbbb] \u001b[39m\u001b[93m↑ CustomUnitRanges v1.0.0 ⇒ v1.0.1\u001b[39m\n",
      " \u001b[90m [9a962f9c] \u001b[39m\u001b[93m↑ DataAPI v1.4.0 ⇒ v1.6.0\u001b[39m\n",
      " \u001b[90m [124859b0] \u001b[39m\u001b[93m↑ DataDeps v0.7.6 ⇒ v0.7.7\u001b[39m\n",
      " \u001b[90m [b4f34e82] \u001b[39m\u001b[93m↑ Distances v0.9.2 ⇒ v0.10.3\u001b[39m\n",
      " \u001b[90m [31c24e10] \u001b[39m\u001b[95m↓ Distributions v0.23.11 ⇒ v0.23.8\u001b[39m\n",
      " \u001b[90m [33d173f1] \u001b[39m\u001b[93m↑ DocSeeker v0.4.2 ⇒ v0.4.3\u001b[39m\n",
      " \u001b[90m [ffbed154] \u001b[39m\u001b[93m↑ DocStringExtensions v0.8.3 ⇒ v0.8.4\u001b[39m\n",
      " \u001b[90m [e30172f5] \u001b[39m\u001b[93m↑ Documenter v0.25.5 ⇒ v0.26.3\u001b[39m\n"
     ]
    },
    {
     "name": "stderr",
     "output_type": "stream",
     "text": [
      " \u001b[90m [da5c29d0] \u001b[39m\u001b[93m↑ EllipsisNotation v1.0.0 ⇒ v1.1.0\u001b[39m\n",
      " \u001b[90m [5789e2e9] \u001b[39m\u001b[93m↑ FileIO v1.4.5 ⇒ v1.9.0\u001b[39m\n",
      " \u001b[90m [1a297f60] \u001b[39m\u001b[95m↓ FillArrays v0.9.7 ⇒ v0.8.14\u001b[39m\n",
      " \u001b[90m [f6369f11] \u001b[39m\u001b[93m↑ ForwardDiff v0.10.14 ⇒ v0.10.18\u001b[39m\n",
      " \u001b[90m [fb4132e2] \u001b[39m\u001b[93m↑ FuzzyCompletions v0.4.0 ⇒ v0.4.1\u001b[39m\n",
      " \u001b[90m [0656b61e] \u001b[39m\u001b[93m↑ GLFW_jll v3.3.2+1 ⇒ v3.3.4+0\u001b[39m\n",
      " \u001b[90m [0c68f7d7] \u001b[39m\u001b[93m↑ GPUArrays v6.1.2 ⇒ v6.4.1\u001b[39m\n",
      " \u001b[90m [28b8d3ca] \u001b[39m\u001b[93m↑ GR v0.53.0 ⇒ v0.57.5\u001b[39m\n",
      " \u001b[90m [d2c73de3] \u001b[39m\u001b[93m↑ GR_jll v0.53.0+0 ⇒ v0.57.3+0\u001b[39m\n",
      " \u001b[90m [5c1252a2] \u001b[39m\u001b[93m↑ GeometryBasics v0.3.5 ⇒ v0.3.12\u001b[39m\n",
      " \u001b[90m [a2bd30eb] \u001b[39m\u001b[93m↑ Graphics v1.0.2 ⇒ v1.1.0\u001b[39m\n",
      " \u001b[90m [42e2da0e] \u001b[39m\u001b[93m↑ Grisu v1.0.0 ⇒ v1.0.2\u001b[39m\n",
      " \u001b[90m [0e44f5e4] \u001b[39m\u001b[91m- Hwloc v1.1.0\u001b[39m\n",
      " \u001b[90m [e33a78d0] \u001b[39m\u001b[91m- Hwloc_jll v2.2.0+0\u001b[39m\n",
      " \u001b[90m [7073ff75] \u001b[39m\u001b[93m↑ IJulia v1.23.1 ⇒ v1.23.2\u001b[39m\n",
      " \u001b[90m [2803e5a7] \u001b[39m\u001b[93m↑ ImageAxes v0.6.8 ⇒ v0.6.9\u001b[39m\n",
      " \u001b[90m [f332f351] \u001b[39m\u001b[93m↑ ImageContrastAdjustment v0.3.6 ⇒ v0.3.7\u001b[39m\n",
      " \u001b[90m [a09fc81d] \u001b[39m\u001b[93m↑ ImageCore v0.8.20 ⇒ v0.8.22\u001b[39m\n",
      " \u001b[90m [51556ac3] \u001b[39m\u001b[93m↑ ImageDistances v0.2.9 ⇒ v0.2.13\u001b[39m\n",
      " \u001b[90m [6a3955dd] \u001b[39m\u001b[93m↑ ImageFiltering v0.6.18 ⇒ v0.6.21\u001b[39m\n",
      " \u001b[90m [82e4d734] \u001b[39m\u001b[92m+ ImageIO v0.5.4\u001b[39m\n",
      " \u001b[90m [6218d12a] \u001b[39m\u001b[93m↑ ImageMagick v1.1.6 ⇒ v1.2.1\u001b[39m\n",
      " \u001b[90m [bc367c6b] \u001b[39m\u001b[93m↑ ImageMetadata v0.9.4 ⇒ v0.9.5\u001b[39m\n",
      " \u001b[90m [787d08f9] \u001b[39m\u001b[93m↑ ImageMorphology v0.2.9 ⇒ v0.2.11\u001b[39m\n",
      " \u001b[90m [2996bd0c] \u001b[39m\u001b[93m↑ ImageQualityIndexes v0.2.1 ⇒ v0.2.2\u001b[39m\n",
      " \u001b[90m [4e3cecfd] \u001b[39m\u001b[93m↑ ImageShow v0.2.3 ⇒ v0.3.1\u001b[39m\n",
      " \u001b[90m [02fcd773] \u001b[39m\u001b[93m↑ ImageTransformations v0.8.8 ⇒ v0.8.12\u001b[39m\n",
      " \u001b[90m [916415d5] \u001b[39m\u001b[93m↑ Images v0.23.3 ⇒ v0.24.1\u001b[39m\n",
      " \u001b[90m [1d5cc7b8] \u001b[39m\u001b[93m↑ IntelOpenMP_jll v2018.0.3+0 ⇒ v2018.0.3+2\u001b[39m\n",
      " \u001b[90m [a98d9a8b] \u001b[39m\u001b[93m↑ Interpolations v0.13.1 ⇒ v0.13.2\u001b[39m\n",
      " \u001b[90m [8197267c] \u001b[39m\u001b[93m↑ IntervalSets v0.5.2 ⇒ v0.5.3\u001b[39m\n",
      " \u001b[90m [692b3bcd] \u001b[39m\u001b[93m↑ JLLWrappers v1.1.4 ⇒ v1.3.0\u001b[39m\n",
      " \u001b[90m [97c1335a] \u001b[39m\u001b[93m↑ JSExpr v0.5.2 ⇒ v0.5.3\u001b[39m\n",
      " \u001b[90m [98e50ef6] \u001b[39m\u001b[93m↑ JuliaFormatter v0.12.2 ⇒ v0.12.3\u001b[39m\n",
      " \u001b[90m [aa1ae85d] \u001b[39m\u001b[93m↑ JuliaInterpreter v0.8.8 ⇒ v0.8.16\u001b[39m\n",
      " \u001b[90m [1902f260] \u001b[39m\u001b[93m↑ Knet v1.4.5 ⇒ v1.4.6\u001b[39m\n",
      " \u001b[90m [929cbde3] \u001b[39m\u001b[93m↑ LLVM v3.5.2 ⇒ v3.7.1\u001b[39m\n",
      " \u001b[90m [b964fa9f] \u001b[39m\u001b[93m↑ LaTeXStrings v1.2.0 ⇒ v1.2.1\u001b[39m\n",
      " \u001b[90m [23fbe1c1] \u001b[39m\u001b[93m↑ Latexify v0.14.7 ⇒ v0.15.6\u001b[39m\n",
      " \u001b[90m [2ab3a3ac] \u001b[39m\u001b[92m+ LogExpFunctions v0.2.4\u001b[39m\n",
      " \u001b[90m [bdcacae8] \u001b[39m\u001b[91m- LoopVectorization v0.9.17\u001b[39m\n",
      " \u001b[90m [eb30cadb] \u001b[39m\u001b[93m↑ MLDatasets v0.5.3 ⇒ v0.5.6\u001b[39m\n",
      " \u001b[90m [dbb5928d] \u001b[39m\u001b[93m↑ MappedArrays v0.3.0 ⇒ v0.4.0\u001b[39m\n",
      " \u001b[90m [e1d29d7a] \u001b[39m\u001b[93m↑ Missings v0.4.4 ⇒ v1.0.0\u001b[39m\n",
      " \u001b[90m [e94cdb99] \u001b[39m\u001b[93m↑ MosaicViews v0.2.4 ⇒ v0.3.3\u001b[39m\n",
      " \u001b[90m [46d2c3a1] \u001b[39m\u001b[91m- MuladdMacro v0.2.2\u001b[39m\n",
      " \u001b[90m [a975b10e] \u001b[39m\u001b[93m↑ Mux v0.7.5 ⇒ v0.7.6\u001b[39m\n",
      " \u001b[90m [872c559c] \u001b[39m\u001b[93m↑ NNlib v0.7.10 ⇒ v0.7.11\u001b[39m\n",
      " \u001b[90m [f09324ee] \u001b[39m\u001b[92m+ Netpbm v1.0.1\u001b[39m\n",
      " \u001b[90m [6fe1bfb0] \u001b[39m\u001b[93m↑ OffsetArrays v1.5.0 ⇒ v1.9.1\u001b[39m\n",
      " \u001b[90m [bac558e1] \u001b[39m\u001b[93m↑ OrderedCollections v1.3.2 ⇒ v1.4.1\u001b[39m\n",
      " \u001b[90m [f57f5aa1] \u001b[39m\u001b[92m+ PNGFiles v0.3.7\u001b[39m\n",
      " \u001b[90m [5432bcbf] \u001b[39m\u001b[93m↑ PaddedViews v0.5.7 ⇒ v0.5.8\u001b[39m\n",
      " \u001b[90m [d96e819e] \u001b[39m\u001b[93m↑ Parameters v0.12.1 ⇒ v0.12.2\u001b[39m\n",
      " \u001b[90m [69de0a69] \u001b[39m\u001b[93m↑ Parsers v1.0.15 ⇒ v1.1.0\u001b[39m\n",
      " \u001b[90m [eebad327] \u001b[39m\u001b[92m+ PkgVersion v0.1.1\u001b[39m\n",
      " \u001b[90m [ccf2f8ad] \u001b[39m\u001b[93m↑ PlotThemes v2.0.0 ⇒ v2.0.1\u001b[39m\n",
      " \u001b[90m [995b91a9] \u001b[39m\u001b[93m↑ PlotUtils v1.0.8 ⇒ v1.0.10\u001b[39m\n",
      " \u001b[90m [f0f68f2c] \u001b[39m\u001b[93m↑ PlotlyJS v0.14.0 ⇒ v0.14.1\u001b[39m\n",
      " \u001b[90m [91a5bcdd] \u001b[39m\u001b[93m↑ Plots v1.10.0 ⇒ v1.15.2\u001b[39m\n",
      " \u001b[90m [21216c6a] \u001b[39m\u001b[92m+ Preferences v1.2.2\u001b[39m\n",
      " \u001b[90m [92933f4c] \u001b[39m\u001b[92m+ ProgressMeter v1.6.2\u001b[39m\n",
      " \u001b[90m [438e738f] \u001b[39m\u001b[93m↑ PyCall v1.92.2 ⇒ v1.92.3\u001b[39m\n",
      " \u001b[90m [ea2cea3b] \u001b[39m\u001b[92m+ Qt5Base_jll v5.15.2+0\u001b[39m\n",
      " \u001b[90m [ede63266] \u001b[39m\u001b[91m- Qt_jll v5.15.2+1\u001b[39m\n",
      " \u001b[90m [01d81517] \u001b[39m\u001b[93m↑ RecipesPipeline v0.2.1 ⇒ v0.3.2\u001b[39m\n",
      " \u001b[90m [ae029012] \u001b[39m\u001b[93m↑ Requires v1.1.2 ⇒ v1.1.3\u001b[39m\n",
      " \u001b[90m [f50d1b31] \u001b[39m\u001b[93m↑ Rmath_jll v0.2.2+1 ⇒ v0.2.2+2\u001b[39m\n",
      " \u001b[90m [476501e8] \u001b[39m\u001b[91m- SLEEFPirates v0.6.3\u001b[39m\n",
      " \u001b[90m [992d4aef] \u001b[39m\u001b[93m↑ Showoff v0.3.2 ⇒ v1.0.3\u001b[39m\n",
      " \u001b[90m [a2af1166] \u001b[39m\u001b[93m↑ SortingAlgorithms v0.3.1 ⇒ v1.0.0\u001b[39m\n",
      " \u001b[90m [cae243ae] \u001b[39m\u001b[92m+ StackViews v0.1.1\u001b[39m\n",
      " \u001b[90m [aedffcd0] \u001b[39m\u001b[92m+ Static v0.2.4\u001b[39m\n",
      " \u001b[90m [90137ffa] \u001b[39m\u001b[93m↑ StaticArrays v1.0.1 ⇒ v1.2.1\u001b[39m\n",
      " \u001b[90m [82ae8749] \u001b[39m\u001b[92m+ StatsAPI v1.0.0\u001b[39m\n",
      " \u001b[90m [2913bbd2] \u001b[39m\u001b[93m↑ StatsBase v0.33.2 ⇒ v0.33.8\u001b[39m\n",
      " \u001b[90m [4c63d2b9] \u001b[39m\u001b[93m↑ StatsFuns v0.9.6 ⇒ v0.9.8\u001b[39m\n",
      " \u001b[90m [88034a9c] \u001b[39m\u001b[93m↑ StringDistances v0.8.0 ⇒ v0.10.0\u001b[39m\n",
      " \u001b[90m [09ab397b] \u001b[39m\u001b[93m↑ StructArrays v0.4.4 ⇒ v0.5.1\u001b[39m\n",
      " \u001b[90m [fa267f1f] \u001b[39m\u001b[92m+ TOML v1.0.3\u001b[39m\n",
      " \u001b[90m [3783bdb8] \u001b[39m\u001b[93m↑ TableTraits v1.0.0 ⇒ v1.0.1\u001b[39m\n",
      " \u001b[90m [bd369af6] \u001b[39m\u001b[93m↑ Tables v1.2.2 ⇒ v1.4.3\u001b[39m\n",
      " \u001b[90m [62fd8b95] \u001b[39m\u001b[92m+ TensorCore v0.1.1\u001b[39m\n",
      " \u001b[90m [731e570b] \u001b[39m\u001b[92m+ TiffImages v0.3.2\u001b[39m\n",
      " \u001b[90m [06e1c1a7] \u001b[39m\u001b[93m↑ TiledIteration v0.2.5 ⇒ v0.3.0\u001b[39m\n",
      " \u001b[90m [a759f4b9] \u001b[39m\u001b[93m↑ TimerOutputs v0.5.7 ⇒ v0.5.9\u001b[39m\n",
      " \u001b[90m [0796e94c] \u001b[39m\u001b[93m↑ Tokenize v0.5.8 ⇒ v0.5.16\u001b[39m\n",
      " \u001b[90m [3d5dd08c] \u001b[39m\u001b[91m- VectorizationBase v0.14.12\u001b[39m\n",
      " \u001b[90m [104b5d7c] \u001b[39m\u001b[93m↑ WebSockets v1.5.7 ⇒ v1.5.9\u001b[39m\n",
      " \u001b[90m [cc8bc4a8] \u001b[39m\u001b[93m↑ Widgets v0.6.2 ⇒ v0.6.3\u001b[39m\n",
      " \u001b[90m [8f1865be] \u001b[39m\u001b[93m↑ ZeroMQ_jll v4.3.2+5 ⇒ v4.3.2+6\u001b[39m\n",
      " \u001b[90m [3161d3a3] \u001b[39m\u001b[93m↑ Zstd_jll v1.4.5+2 ⇒ v1.4.8+0\u001b[39m\n",
      " \u001b[90m [e88e6eb3] \u001b[39m\u001b[95m↓ Zygote v0.5.14 ⇒ v0.5.2\u001b[39m\n",
      " \u001b[90m [a9144af2] \u001b[39m\u001b[92m+ libsodium_jll v1.0.19+0\u001b[39m\n",
      " \u001b[90m [9fa8497b] \u001b[39m\u001b[92m+ Future\u001b[39m\n",
      "\u001b[32m\u001b[1m   Building\u001b[22m\u001b[39m Conda ───→ `C:\\Users\\USER\\.julia\\packages\\Conda\\sNGum\\deps\\build.log`\n",
      "\u001b[32m\u001b[1m   Building\u001b[22m\u001b[39m PyCall ──→ `C:\\Users\\USER\\.julia\\packages\\PyCall\\BD546\\deps\\build.log`\n",
      "\u001b[32m\u001b[1m   Building\u001b[22m\u001b[39m IJulia ──→ `C:\\Users\\USER\\.julia\\packages\\IJulia\\e8kqU\\deps\\build.log`\n",
      "\u001b[32m\u001b[1m   Building\u001b[22m\u001b[39m Blink ───→ `C:\\Users\\USER\\.julia\\packages\\Blink\\mwJC9\\deps\\build.log`\n",
      "\u001b[32m\u001b[1m   Building\u001b[22m\u001b[39m PlotlyJS → `C:\\Users\\USER\\.julia\\packages\\PlotlyJS\\h3GxO\\deps\\build.log`\n",
      "\u001b[32m\u001b[1m   Building\u001b[22m\u001b[39m GR ──────→ `C:\\Users\\USER\\.julia\\packages\\GR\\4DHy8\\deps\\build.log`\n",
      "\u001b[32m\u001b[1m   Building\u001b[22m\u001b[39m DataDeps → `C:\\Users\\USER\\.julia\\packages\\DataDeps\\ooWXe\\deps\\build.log`\n"
     ]
    }
   ],
   "source": [
    "using Pkg;Pkg.update()"
   ]
  },
  {
   "cell_type": "code",
   "execution_count": 2,
   "metadata": {},
   "outputs": [],
   "source": [
    "using Random\n",
    "using Printf"
   ]
  },
  {
   "cell_type": "code",
   "execution_count": 3,
   "metadata": {},
   "outputs": [
    {
     "data": {
      "text/plain": [
       "MersenneTwister(UInt32[0x000004d2], Random.DSFMT.DSFMT_state(Int32[-1393240018, 1073611148, 45497681, 1072875908, 436273599, 1073674613, -2043716458, 1073445557, -254908435, 1072827086  …  -599655111, 1073144102, 367655457, 1072985259, -1278750689, 1018350124, -597141475, 249849711, 382, 0]), [0.0, 0.0, 0.0, 0.0, 0.0, 0.0, 0.0, 0.0, 0.0, 0.0  …  0.0, 0.0, 0.0, 0.0, 0.0, 0.0, 0.0, 0.0, 0.0, 0.0], UInt128[0x00000000000000000000000000000000, 0x00000000000000000000000000000000, 0x00000000000000000000000000000000, 0x00000000000000000000000000000000, 0x00000000000000000000000000000000, 0x00000000000000000000000000000000, 0x00000000000000000000000000000000, 0x00000000000000000000000000000000, 0x00000000000000000000000000000000, 0x00000000000000000000000000000000  …  0x00000000000000000000000000000000, 0x00000000000000000000000000000000, 0x00000000000000000000000000000000, 0x00000000000000000000000000000000, 0x00000000000000000000000000000000, 0x00000000000000000000000000000000, 0x00000000000000000000000000000000, 0x00000000000000000000000000000000, 0x00000000000000000000000000000000, 0x00000000000000000000000000000000], 1002, 0)"
      ]
     },
     "execution_count": 3,
     "metadata": {},
     "output_type": "execute_result"
    }
   ],
   "source": [
    "rng = MersenneTwister(1234)"
   ]
  },
  {
   "cell_type": "code",
   "execution_count": 4,
   "metadata": {},
   "outputs": [
    {
     "data": {
      "text/plain": [
       "inclined_randomized (generic function with 1 method)"
      ]
     },
     "execution_count": 4,
     "metadata": {},
     "output_type": "execute_result"
    }
   ],
   "source": [
    "function inclined_randomized(n,rng)\n",
    "    xy_chosen = zeros(Bool,2,n+1)\n",
    "    res_list = []\n",
    "    for z = 0:n\n",
    "        x_range = shuffle(rng,Vector(0:n-z))\n",
    "        for x in x_range\n",
    "            (xy_chosen[1,x+1] || xy_chosen[2,n-z-x+1]) && continue                \n",
    "            xy_chosen[1,x+1] = true\n",
    "            xy_chosen[2,n-z-x+1] = true\n",
    "            push!(res_list, (x,n-z-x,z))\n",
    "            break\n",
    "        end\n",
    "    end\n",
    "    length(res_list),res_list\n",
    "end"
   ]
  },
  {
   "cell_type": "code",
   "execution_count": 44,
   "metadata": {},
   "outputs": [
    {
     "data": {
      "text/plain": [
       "inclined_randomized (generic function with 2 methods)"
      ]
     },
     "execution_count": 44,
     "metadata": {},
     "output_type": "execute_result"
    }
   ],
   "source": [
    "function inclined_randomized(n,rng,k)\n",
    "    xy_chosen = zeros(Bool,2,k+1)\n",
    "    res_list = []\n",
    "    for z = 0:k\n",
    "        x_range = shuffle(rng,Vector(0:min(k,n-z)))\n",
    "        for x in x_range\n",
    "            y = n-z-x\n",
    "            (y<0 || y>k || xy_chosen[1,x+1] || xy_chosen[2,y+1]) && continue             \n",
    "            xy_chosen[1,x+1] = true\n",
    "            xy_chosen[2,y+1] = true\n",
    "            push!(res_list, (x,y,z))\n",
    "            break\n",
    "        end\n",
    "    end\n",
    "    length(res_list),res_list\n",
    "end"
   ]
  },
  {
   "cell_type": "code",
   "execution_count": 42,
   "metadata": {},
   "outputs": [
    {
     "data": {
      "text/plain": [
       "(9, Any[(1, 13, 0), (4, 9, 1), (5, 7, 2), (8, 3, 3), (9, 1, 4), (7, 2, 5), (3, 5, 6), (6, 0, 8), (0, 4, 10)])"
      ]
     },
     "execution_count": 42,
     "metadata": {},
     "output_type": "execute_result"
    }
   ],
   "source": [
    "inclined_randomized(14,rng)"
   ]
  },
  {
   "cell_type": "code",
   "execution_count": 31,
   "metadata": {},
   "outputs": [
    {
     "data": {
      "text/plain": [
       "(5, Any[(3, 4, 0), (0, 6, 1), (4, 1, 2), (2, 2, 3), (1, 0, 6)])"
      ]
     },
     "execution_count": 31,
     "metadata": {},
     "output_type": "execute_result"
    }
   ],
   "source": [
    "inclined_randomized(7,rng)"
   ]
  },
  {
   "cell_type": "code",
   "execution_count": 10,
   "metadata": {},
   "outputs": [
    {
     "data": {
      "text/plain": [
       "concrete_recursion (generic function with 1 method)"
      ]
     },
     "execution_count": 10,
     "metadata": {},
     "output_type": "execute_result"
    }
   ],
   "source": [
    "function concrete_recursion(z,n,res_list)\n",
    "    x_range = Vector(0:n-z)\n",
    "    max_size, max_res = length(res_list), res_list\n",
    "    for x in x_range\n",
    "        cut = false\n",
    "        for res in res_list\n",
    "            if res[1] == x || res[2] == n - z - x\n",
    "                cut = true\n",
    "                break\n",
    "            end\n",
    "        end\n",
    "        cut && continue\n",
    "        res_size, res = concrete_recursion(z+1,n,[res_list;(x,n-z-x,z)])\n",
    "        if res_size > max_size\n",
    "            max_size = res_size\n",
    "            max_res = res\n",
    "        end\n",
    "    end\n",
    "    max_size, max_res \n",
    "end"
   ]
  },
  {
   "cell_type": "code",
   "execution_count": 75,
   "metadata": {},
   "outputs": [
    {
     "name": "stdout",
     "output_type": "stream",
     "text": [
      "  0.001247 seconds (2.91 k allocations: 139.156 KiB)\n"
     ]
    },
    {
     "data": {
      "text/plain": [
       "(5, Any[(2, 4, 0), (3, 2, 1), (4, 0, 2), (0, 3, 3), (1, 1, 4)])"
      ]
     },
     "execution_count": 75,
     "metadata": {},
     "output_type": "execute_result"
    }
   ],
   "source": [
    "@time concrete_recursion(0,6,[])"
   ]
  },
  {
   "cell_type": "code",
   "execution_count": 5,
   "metadata": {},
   "outputs": [],
   "source": [
    "#@time concrete_recursion(0,14,[])"
   ]
  },
  {
   "cell_type": "code",
   "execution_count": 7,
   "metadata": {},
   "outputs": [
    {
     "data": {
      "text/plain": [
       "define_list_triplets (generic function with 1 method)"
      ]
     },
     "execution_count": 7,
     "metadata": {},
     "output_type": "execute_result"
    }
   ],
   "source": [
    "function define_list_triplets(n)\n",
    "    triplets = []\n",
    "    for x = 0:n\n",
    "        for y = 0:n-x\n",
    "            push!(triplets,(x,y,n-x-y))\n",
    "        end\n",
    "    end\n",
    "    triplets\n",
    "end"
   ]
  },
  {
   "cell_type": "code",
   "execution_count": 8,
   "metadata": {},
   "outputs": [
    {
     "data": {
      "text/plain": [
       "define_list_triplets (generic function with 2 methods)"
      ]
     },
     "execution_count": 8,
     "metadata": {},
     "output_type": "execute_result"
    }
   ],
   "source": [
    "function define_list_triplets(n,k)\n",
    "    triplets = []\n",
    "    for x = 0:k\n",
    "        for y = 0:k\n",
    "            for z = 0:k\n",
    "                x + y + z == n && ( push!(triplets,(x,y,z)))\n",
    "            end\n",
    "        end\n",
    "    end\n",
    "    triplets\n",
    "end"
   ]
  },
  {
   "cell_type": "code",
   "execution_count": 9,
   "metadata": {},
   "outputs": [
    {
     "data": {
      "text/plain": [
       "30301-element Array{Any,1}:\n",
       " (0, 100, 200)\n",
       " (0, 101, 199)\n",
       " (0, 102, 198)\n",
       " (0, 103, 197)\n",
       " (0, 104, 196)\n",
       " (0, 105, 195)\n",
       " (0, 106, 194)\n",
       " (0, 107, 193)\n",
       " (0, 108, 192)\n",
       " (0, 109, 191)\n",
       " (0, 110, 190)\n",
       " (0, 111, 189)\n",
       " (0, 112, 188)\n",
       " ⋮\n",
       " (200, 89, 11)\n",
       " (200, 90, 10)\n",
       " (200, 91, 9)\n",
       " (200, 92, 8)\n",
       " (200, 93, 7)\n",
       " (200, 94, 6)\n",
       " (200, 95, 5)\n",
       " (200, 96, 4)\n",
       " (200, 97, 3)\n",
       " (200, 98, 2)\n",
       " (200, 99, 1)\n",
       " (200, 100, 0)"
      ]
     },
     "execution_count": 9,
     "metadata": {},
     "output_type": "execute_result"
    }
   ],
   "source": [
    "n = 300\n",
    "k = Int32(n*2/3)\n",
    "restricted_list = define_list_triplets(n,k)"
   ]
  },
  {
   "cell_type": "code",
   "execution_count": 6,
   "metadata": {
    "scrolled": true
   },
   "outputs": [
    {
     "data": {
      "text/plain": [
       "define_cubic_triplets (generic function with 1 method)"
      ]
     },
     "execution_count": 6,
     "metadata": {},
     "output_type": "execute_result"
    }
   ],
   "source": [
    "function define_cubic_triplets(n)\n",
    "    triplets = zeros(Bool,n+1,n+1,n+1)\n",
    "    for i = 1:n+1\n",
    "        for j = 1:n-i+2\n",
    "            triplets[i,j,n-i-j+3] = true\n",
    "        end\n",
    "    end\n",
    "    triplets \n",
    "end"
   ]
  },
  {
   "cell_type": "code",
   "execution_count": 17,
   "metadata": {},
   "outputs": [
    {
     "data": {
      "text/plain": [
       "greedy_randomized (generic function with 1 method)"
      ]
     },
     "execution_count": 17,
     "metadata": {},
     "output_type": "execute_result"
    }
   ],
   "source": [
    "function greedy_randomized(n,rng,triplets)\n",
    "    order = shuffle(rng,Vector(1:length(triplets)))\n",
    "    prev_used_arr = zeros(Bool,3,n+1)\n",
    "    solution_arr = []\n",
    "    for i = order\n",
    "        x,y,z = triplets[i]\n",
    "        (prev_used_arr[1,x+1]||prev_used_arr[2,y+1]||prev_used_arr[3,z+1]) && continue\n",
    "        prev_used_arr[1,x+1] = true\n",
    "        prev_used_arr[2,y+1] = true\n",
    "        prev_used_arr[3,z+1] = true\n",
    "        push!(solution_arr,(x,y,z))\n",
    "    end\n",
    "    length(solution_arr), solution_arr\n",
    "end"
   ]
  },
  {
   "cell_type": "code",
   "execution_count": 59,
   "metadata": {
    "scrolled": true
   },
   "outputs": [
    {
     "data": {
      "text/plain": [
       "randomized_iterarion (generic function with 1 method)"
      ]
     },
     "execution_count": 59,
     "metadata": {},
     "output_type": "execute_result"
    }
   ],
   "source": [
    "function randomized_iterarion(iter_num,fn,n,args...)\n",
    "    max_len, max_res = 0,[]\n",
    "    for i = 1:iter_num\n",
    "        res_len, res = fn(n,args...)\n",
    "        if res_len > max_len\n",
    "            !(sanity_check(res,n)) && error(\"wrong solution\") \n",
    "            # instead of running sanity check everytime, we just run it when we can improve the current solution\n",
    "            max_len = res_len\n",
    "            max_res = res\n",
    "            @printf(\"max triplet: %d iteration: %d\\n\",max_len,i)\n",
    "        end\n",
    "    end\n",
    "    max_len, max_res\n",
    "end"
   ]
  },
  {
   "cell_type": "code",
   "execution_count": null,
   "metadata": {},
   "outputs": [],
   "source": []
  },
  {
   "cell_type": "code",
   "execution_count": 15,
   "metadata": {},
   "outputs": [
    {
     "data": {
      "text/plain": [
       "karp_sipsherh_cubic (generic function with 2 methods)"
      ]
     },
     "execution_count": 15,
     "metadata": {},
     "output_type": "execute_result"
    }
   ],
   "source": [
    "function karp_sipsherh_cubic(n,rng, cubic_triplet_list,strict=true)    #Rule 1 only\n",
    "    cubic_triplets = deepcopy(cubic_triplet_list)\n",
    "    chosen_list = []\n",
    "    #n = length(cubic_triplets[1,1,:])\n",
    "    n+=1\n",
    "    previous_pick = zeros(Bool,3,n)\n",
    "        \n",
    "    while(sum(cubic_triplets)!=0)\n",
    "        fit_list = shuffle(rng, search_for_rule_one(cubic_triplets))\n",
    "        for (x,y,z) in fit_list\n",
    "            (previous_pick[1,x] || previous_pick[2,y] || previous_pick[3,z]) && continue\n",
    "            previous_pick[1,x] = true\n",
    "            previous_pick[2,y] = true\n",
    "            previous_pick[3,z] = true\n",
    "            \n",
    "            cubic_triplets[x,:,:] = zeros(Bool,n,n)\n",
    "            cubic_triplets[:,y,:] = zeros(Bool,n,n)\n",
    "            cubic_triplets[:,:,z] = zeros(Bool,n,n)\n",
    "            \n",
    "            push!(chosen_list,(x-1,y-1,z-1))\n",
    "            strict && continue\n",
    "        end\n",
    "        sum(cubic_triplets)==0 && break\n",
    "        len = sum(cubic_triplets)\n",
    "        rand_index = rand(rng,1:len)\n",
    "        x,y,z = Tuple.(findall(>(0),cubic_triplets))[rand_index]\n",
    "        \n",
    "        cubic_triplets[x,:,:] = zeros(Bool,n,n)\n",
    "        cubic_triplets[:,y,:] = zeros(Bool,n,n)\n",
    "        cubic_triplets[:,:,z] = zeros(Bool,n,n)\n",
    "            \n",
    "        push!(chosen_list,(x-1,y-1,z-1))\n",
    "                    \n",
    "    end\n",
    "    length(chosen_list),chosen_list\n",
    "end"
   ]
  },
  {
   "cell_type": "code",
   "execution_count": 10,
   "metadata": {},
   "outputs": [
    {
     "data": {
      "text/plain": [
       "search_for_rule_one (generic function with 1 method)"
      ]
     },
     "execution_count": 10,
     "metadata": {},
     "output_type": "execute_result"
    }
   ],
   "source": [
    "function search_for_rule_one(cubic_triplets)\n",
    "    first_dim = []\n",
    "    second_dim = []\n",
    "    third_dim = []\n",
    "    \n",
    "    fits_rule = []\n",
    "    \n",
    "    n = length(cubic_triplets[:,1,1])\n",
    "    for i in 1:n\n",
    "        sum(cubic_triplets[i,:,:]) == 1 && (push!(first_dim,i))\n",
    "    end\n",
    "    for j in 1:n\n",
    "        sum(cubic_triplets[:,j,:]) == 1 && (push!(second_dim,j))\n",
    "    end\n",
    "    for k in 1:n\n",
    "        sum(cubic_triplets[:,:,k]) == 1 && (push!(third_dim,k))\n",
    "    end\n",
    "    \n",
    "    for dim1 in first_dim\n",
    "        y,z = Tuple.(findall(>(0),cubic_triplets[dim1,:,:]))[1]\n",
    "        (y in second_dim || z in third_dim) && (push!(fits_rule,(dim1,y,z)))\n",
    "    end\n",
    "    for dim2 in second_dim\n",
    "        x,z = Tuple.(findall(>(0),cubic_triplets[:,dim2,:]))[1]\n",
    "        if x in first_dim || z in third_dim\n",
    "            candidate_triplet = (x,dim2,z)\n",
    "            !(candidate_triplet in fits_rule) && (push!(fits_rule, candidate_triplet))\n",
    "        end\n",
    "    end\n",
    "    for dim3 in third_dim\n",
    "        x,y = Tuple.(findall(>(0),cubic_triplets[:,:,dim3]))[1]\n",
    "        if x in first_dim || y in second_dim\n",
    "            candidate_triplet = (x,y,dim3)\n",
    "            !(candidate_triplet in fits_rule) && (push!(fits_rule, candidate_triplet))\n",
    "        end\n",
    "    end\n",
    "    fits_rule\n",
    "end\n",
    "    "
   ]
  },
  {
   "cell_type": "code",
   "execution_count": 12,
   "metadata": {},
   "outputs": [
    {
     "data": {
      "text/plain": [
       "45451-element Array{Any,1}:\n",
       " (0, 0, 300)\n",
       " (0, 1, 299)\n",
       " (0, 2, 298)\n",
       " (0, 3, 297)\n",
       " (0, 4, 296)\n",
       " (0, 5, 295)\n",
       " (0, 6, 294)\n",
       " (0, 7, 293)\n",
       " (0, 8, 292)\n",
       " (0, 9, 291)\n",
       " (0, 10, 290)\n",
       " (0, 11, 289)\n",
       " (0, 12, 288)\n",
       " ⋮\n",
       " (296, 3, 1)\n",
       " (296, 4, 0)\n",
       " (297, 0, 3)\n",
       " (297, 1, 2)\n",
       " (297, 2, 1)\n",
       " (297, 3, 0)\n",
       " (298, 0, 2)\n",
       " (298, 1, 1)\n",
       " (298, 2, 0)\n",
       " (299, 0, 1)\n",
       " (299, 1, 0)\n",
       " (300, 0, 0)"
      ]
     },
     "execution_count": 12,
     "metadata": {},
     "output_type": "execute_result"
    }
   ],
   "source": [
    "n = 300\n",
    "cubic_triplets = define_cubic_triplets(n)\n",
    "triplet_list = define_list_triplets(n)"
   ]
  },
  {
   "cell_type": "code",
   "execution_count": 46,
   "metadata": {},
   "outputs": [
    {
     "data": {
      "text/plain": [
       "sanity_check (generic function with 1 method)"
      ]
     },
     "execution_count": 46,
     "metadata": {},
     "output_type": "execute_result"
    }
   ],
   "source": [
    "function sanity_check(solution_list,n)\n",
    "    position_arr = zeros(Bool,3,n+1)\n",
    "    for (x,y,z) in solution_list\n",
    "            (position_arr[1,x+1] || position_arr[2,y+1] || position_arr[3,z+1]) && return false\n",
    "            position_arr[1,x+1] = true\n",
    "            position_arr[2,y+1] = true\n",
    "            position_arr[3,z+1] = true    \n",
    "    end\n",
    "    return true\n",
    "end"
   ]
  },
  {
   "cell_type": "code",
   "execution_count": 17,
   "metadata": {
    "scrolled": true
   },
   "outputs": [
    {
     "name": "stdout",
     "output_type": "stream",
     "text": [
      " 92.382596 seconds (450.34 k allocations: 13.839 GiB, 0.89% gc time)\n",
      " 96.228817 seconds (469.81 k allocations: 14.181 GiB, 1.01% gc time)\n"
     ]
    },
    {
     "data": {
      "text/plain": [
       "(183, Any[(101, 76, 123), (125, 17, 158), (18, 178, 104), (57, 169, 74), (218, 53, 29), (256, 41, 3), (92, 47, 161), (193, 51, 56), (117, 33, 150), (121, 9, 170)  …  (72, 37, 191), (105, 131, 64), (102, 82, 116), (129, 80, 91), (93, 129, 78), (103, 101, 96), (139, 62, 99), (112, 107, 81), (60, 102, 138), (144, 54, 102)])"
      ]
     },
     "execution_count": 17,
     "metadata": {},
     "output_type": "execute_result"
    }
   ],
   "source": [
    "@time karp_sipsherh_cubic(n,rng, cubic_triplets)\n",
    "@time karp_sipsherh_cubic(n,rng, cubic_triplets,false)"
   ]
  },
  {
   "cell_type": "code",
   "execution_count": null,
   "metadata": {},
   "outputs": [],
   "source": []
  },
  {
   "cell_type": "code",
   "execution_count": 84,
   "metadata": {
    "scrolled": true
   },
   "outputs": [
    {
     "name": "stdout",
     "output_type": "stream",
     "text": [
      "max triplet: 151 iteration: 1\n",
      "max triplet: 159 iteration: 2\n",
      "max triplet: 176 iteration: 3\n",
      "max triplet: 184 iteration: 4\n",
      "max triplet: 186 iteration: 79\n",
      "109.329367 seconds (702.50 M allocations: 79.689 GiB, 10.49% gc time)\n"
     ]
    },
    {
     "data": {
      "text/plain": [
       "(186, Any[(151, 149, 0), (149, 150, 1), (150, 148, 2), (152, 145, 3), (145, 151, 4), (148, 147, 5), (153, 141, 6), (147, 146, 7), (140, 152, 8), (154, 137, 9)  …  (14, 12, 274), (12, 11, 277), (11, 9, 280), (10, 8, 282), (8, 7, 285), (7, 6, 287), (6, 4, 290), (4, 3, 293), (3, 2, 295), (2, 0, 298)])"
      ]
     },
     "execution_count": 84,
     "metadata": {},
     "output_type": "execute_result"
    }
   ],
   "source": [
    "@time randomized_iterarion(10000,inclined_with_distance_heuristic,n,rng,manhattan)"
   ]
  },
  {
   "cell_type": "code",
   "execution_count": 106,
   "metadata": {},
   "outputs": [
    {
     "name": "stdout",
     "output_type": "stream",
     "text": [
      "max triplet: 151 iteration: 1\n",
      "max triplet: 177 iteration: 2\n",
      "max triplet: 179 iteration: 10\n",
      "max triplet: 183 iteration: 22\n",
      "max triplet: 185 iteration: 142\n",
      "max triplet: 186 iteration: 154\n",
      "107.126234 seconds (644.97 M allocations: 75.557 GiB, 10.42% gc time)\n"
     ]
    },
    {
     "data": {
      "text/plain": [
       "(186, Any[(151, 149, 0), (149, 150, 1), (150, 148, 2), (152, 145, 3), (145, 151, 4), (148, 147, 5), (153, 141, 6), (147, 146, 7), (140, 152, 8), (154, 137, 9)  …  (14, 12, 274), (12, 11, 277), (11, 9, 280), (10, 8, 282), (8, 7, 285), (7, 6, 287), (6, 4, 290), (4, 3, 293), (3, 2, 295), (2, 0, 298)])"
      ]
     },
     "execution_count": 106,
     "metadata": {},
     "output_type": "execute_result"
    }
   ],
   "source": [
    "@time randomized_iterarion(10000,inclined_with_distance_heuristic,n,rng,euclidean)"
   ]
  },
  {
   "cell_type": "code",
   "execution_count": 39,
   "metadata": {
    "scrolled": false
   },
   "outputs": [
    {
     "name": "stdout",
     "output_type": "stream",
     "text": [
      "max triplet: 183 iteration: 1\n",
      "max triplet: 187 iteration: 2\n",
      "max triplet: 188 iteration: 4\n",
      "max triplet: 191 iteration: 7\n",
      "max triplet: 192 iteration: 28\n",
      "max triplet: 193 iteration: 44\n",
      "max triplet: 195 iteration: 53\n",
      "120.108560 seconds (937.84 M allocations: 32.645 GiB, 1.61% gc time)\n"
     ]
    },
    {
     "data": {
      "text/plain": [
       "(195, Any[(131, 10, 159), (53, 195, 52), (117, 147, 36), (187, 34, 79), (182, 83, 35), (73, 188, 39), (37, 176, 87), (26, 73, 201), (107, 84, 109), (50, 78, 172)  …  (62, 61, 177), (89, 40, 171), (172, 24, 104), (202, 72, 26), (20, 144, 136), (163, 132, 5), (69, 170, 61), (184, 43, 73), (173, 11, 116), (13, 123, 164)])"
      ]
     },
     "execution_count": 39,
     "metadata": {},
     "output_type": "execute_result"
    }
   ],
   "source": [
    "#@time randomized_iterarion(1,karp_sipsherh_cubic,n,rng, cubic_triplets)\n",
    "triplet_list = define_list_triplets(n,k)\n",
    "@time randomized_iterarion(10000,greedy_randomized,n,rng,triplet_list)\n",
    "#@time randomized_iterarion(100000,inclined_randomized,200,rng)"
   ]
  },
  {
   "cell_type": "code",
   "execution_count": 47,
   "metadata": {},
   "outputs": [
    {
     "name": "stdout",
     "output_type": "stream",
     "text": [
      "max triplet: 10 iteration: 1\n",
      "  0.270094 seconds (808.41 k allocations: 42.532 MiB, 4.07% gc time)\n"
     ]
    },
    {
     "data": {
      "text/plain": [
       "(10, Any[(5, 9, 0), (9, 4, 1), (6, 6, 2), (4, 7, 3), (7, 3, 4), (8, 1, 5), (0, 8, 6), (2, 5, 7), (3, 2, 9), (1, 0, 13)])"
      ]
     },
     "execution_count": 47,
     "metadata": {},
     "output_type": "execute_result"
    }
   ],
   "source": [
    "@time randomized_iterarion(1000,inclined_randomized,14,rng)"
   ]
  },
  {
   "cell_type": "code",
   "execution_count": 38,
   "metadata": {},
   "outputs": [
    {
     "name": "stdout",
     "output_type": "stream",
     "text": [
      "max triplet: 174 iteration: 1\n",
      "max triplet: 181 iteration: 4\n",
      "max triplet: 183 iteration: 19\n",
      "max triplet: 186 iteration: 21\n",
      "max triplet: 187 iteration: 764\n",
      "max triplet: 188 iteration: 1290\n",
      "max triplet: 190 iteration: 4460\n",
      "max triplet: 191 iteration: 82516\n",
      " 88.677947 seconds (59.96 M allocations: 60.474 GiB, 12.05% gc time)\n"
     ]
    },
    {
     "data": {
      "text/plain": [
       "(191, Any[(173, 127, 0), (143, 156, 1), (167, 131, 2), (123, 174, 3), (196, 100, 4), (192, 103, 5), (177, 117, 6), (102, 191, 7), (151, 141, 8), (180, 111, 9)  …  (68, 51, 181), (42, 75, 183), (3, 112, 185), (103, 11, 186), (41, 72, 187), (33, 79, 188), (22, 87, 191), (79, 28, 193), (78, 24, 198), (48, 49, 203)])"
      ]
     },
     "execution_count": 38,
     "metadata": {},
     "output_type": "execute_result"
    }
   ],
   "source": [
    "@time randomized_iterarion(100000,inclined_randomized,n,rng,k)"
   ]
  },
  {
   "cell_type": "code",
   "execution_count": 82,
   "metadata": {},
   "outputs": [
    {
     "data": {
      "text/plain": [
       "inclined_with_distance_heuristic (generic function with 1 method)"
      ]
     },
     "execution_count": 82,
     "metadata": {},
     "output_type": "execute_result"
    }
   ],
   "source": [
    "function inclined_with_distance_heuristic(n,rng,heur_fn)\n",
    "    xy_chosen = zeros(Bool,2,n+1)\n",
    "    res_list = []\n",
    "    # add first element randomly - i.e z = 0\n",
    "    prev_x = rand(0:n)\n",
    "    prev_y = n - prev_x\n",
    "    xy_chosen[1,prev_x+1] = true\n",
    "    xy_chosen[2,prev_y+1] = true\n",
    "    push!(res_list,(prev_x, prev_y, 0))\n",
    "    \n",
    "    for z = 1:n\n",
    "        x_possible = Vector(0:n-z)\n",
    "        xy_possible = hcat(x_possible,reverse(x_possible))\n",
    "        order_by_manhattan = sortperm(heur_fn(xy_possible,[prev_x prev_y])[:,1])\n",
    "        \n",
    "        for index = order_by_manhattan\n",
    "            x,y = Tuple(xy_possible[index,:])\n",
    "            (xy_chosen[1,x+1] || xy_chosen[2,y+1]) && continue                \n",
    "            xy_chosen[1,x+1] = true\n",
    "            xy_chosen[2,y+1] = true\n",
    "            push!(res_list, (x,y,z))\n",
    "            break\n",
    "        end\n",
    "    end\n",
    "    length(res_list),res_list\n",
    "end"
   ]
  },
  {
   "cell_type": "code",
   "execution_count": 104,
   "metadata": {},
   "outputs": [
    {
     "data": {
      "text/plain": [
       "(3, Any[(1, 4, 0), (2, 2, 1), (0, 3, 2)])"
      ]
     },
     "execution_count": 104,
     "metadata": {},
     "output_type": "execute_result"
    }
   ],
   "source": [
    "inclined_with_distance_heuristic(5,rng,euler)"
   ]
  },
  {
   "cell_type": "code",
   "execution_count": 102,
   "metadata": {
    "scrolled": true
   },
   "outputs": [
    {
     "data": {
      "text/plain": [
       "manhattan (generic function with 1 method)"
      ]
     },
     "execution_count": 102,
     "metadata": {},
     "output_type": "execute_result"
    }
   ],
   "source": [
    "manhattan(list, instance) = sum(abs.(list .- instance), dims=2)"
   ]
  },
  {
   "cell_type": "code",
   "execution_count": 107,
   "metadata": {
    "scrolled": true
   },
   "outputs": [
    {
     "data": {
      "text/plain": [
       "euclidean (generic function with 1 method)"
      ]
     },
     "execution_count": 107,
     "metadata": {},
     "output_type": "execute_result"
    }
   ],
   "source": [
    "euclidean(list,instance) = sum((list .- instance).^2, dims=2)"
   ]
  },
  {
   "cell_type": "code",
   "execution_count": 91,
   "metadata": {},
   "outputs": [
    {
     "data": {
      "text/plain": [
       "restricted_stepwise (generic function with 1 method)"
      ]
     },
     "execution_count": 91,
     "metadata": {},
     "output_type": "execute_result"
    }
   ],
   "source": [
    "function restricted_stepwise(n,k)\n",
    "    mode = n%3\n",
    "    res_list = []\n",
    "    x = n-k\n",
    "    y = 0\n",
    "    z = k\n",
    "    \n",
    "    # mini mode updates\n",
    "    if mode == 0 \n",
    "        x+=1 \n",
    "        z-=1\n",
    "    end\n",
    "    \n",
    "    while z >= 0\n",
    "        push!(res_list,(x,y,z))\n",
    "        x += 1\n",
    "        y += 1\n",
    "        z -= 2\n",
    "    end\n",
    "    x = 0\n",
    "    z = n - y\n",
    "    \n",
    "    # mini mode updates\n",
    "    if mode == 2 \n",
    "        y+=1\n",
    "        z-=1\n",
    "    end\n",
    "    \n",
    "    while z >= 0\n",
    "        push!(res_list,(x,y,z))\n",
    "        x += 1\n",
    "        y += 1\n",
    "        z -= 2\n",
    "    end\n",
    "    length(res_list),res_list\n",
    "end"
   ]
  },
  {
   "cell_type": "code",
   "execution_count": 53,
   "metadata": {},
   "outputs": [
    {
     "data": {
      "text/plain": [
       "(7, Any[(3, 0, 7), (4, 1, 5), (5, 2, 3), (6, 3, 1), (0, 4, 6), (1, 5, 4), (2, 6, 2)])"
      ]
     },
     "execution_count": 53,
     "metadata": {},
     "output_type": "execute_result"
    }
   ],
   "source": []
  },
  {
   "cell_type": "code",
   "execution_count": 93,
   "metadata": {},
   "outputs": [
    {
     "data": {
      "text/plain": [
       "(201, Any[(100, 0, 200), (101, 1, 198), (102, 2, 196), (103, 3, 194), (104, 4, 192), (105, 5, 190), (106, 6, 188), (107, 7, 186), (108, 8, 184), (109, 9, 182)  …  (90, 191, 19), (91, 192, 17), (92, 193, 15), (93, 194, 13), (94, 195, 11), (95, 196, 9), (96, 197, 7), (97, 198, 5), (98, 199, 3), (99, 200, 1)])"
      ]
     },
     "execution_count": 93,
     "metadata": {},
     "output_type": "execute_result"
    }
   ],
   "source": [
    "n = 300\n",
    "k = Int(floor(2*n/3)+1)\n",
    "res_len, res = restricted_stepwise(n,k)"
   ]
  },
  {
   "cell_type": "code",
   "execution_count": 96,
   "metadata": {},
   "outputs": [
    {
     "name": "stdout",
     "output_type": "stream",
     "text": [
      "max triplet: 201 iteration: 1\n",
      "  0.005802 seconds (214.65 k allocations: 10.473 MiB)\n"
     ]
    },
    {
     "data": {
      "text/plain": [
       "(201, Any[(100, 0, 200), (101, 1, 198), (102, 2, 196), (103, 3, 194), (104, 4, 192), (105, 5, 190), (106, 6, 188), (107, 7, 186), (108, 8, 184), (109, 9, 182)  …  (90, 191, 19), (91, 192, 17), (92, 193, 15), (93, 194, 13), (94, 195, 11), (95, 196, 9), (96, 197, 7), (97, 198, 5), (98, 199, 3), (99, 200, 1)])"
      ]
     },
     "execution_count": 96,
     "metadata": {},
     "output_type": "execute_result"
    }
   ],
   "source": [
    "@time randomized_iterarion(1000,restricted_stepwise,n,k)"
   ]
  },
  {
   "cell_type": "code",
   "execution_count": 94,
   "metadata": {},
   "outputs": [
    {
     "data": {
      "text/plain": [
       "201"
      ]
     },
     "execution_count": 94,
     "metadata": {},
     "output_type": "execute_result"
    }
   ],
   "source": [
    "k"
   ]
  },
  {
   "cell_type": "code",
   "execution_count": 98,
   "metadata": {},
   "outputs": [
    {
     "data": {
      "text/plain": [
       "true"
      ]
     },
     "execution_count": 98,
     "metadata": {},
     "output_type": "execute_result"
    }
   ],
   "source": [
    "sanity_check(res,n)"
   ]
  },
  {
   "cell_type": "code",
   "execution_count": 97,
   "metadata": {},
   "outputs": [
    {
     "name": "stdout",
     "output_type": "stream",
     "text": [
      "Any[(100, 0, 200), (101, 1, 198), (102, 2, 196), (103, 3, 194), (104, 4, 192), (105, 5, 190), (106, 6, 188), (107, 7, 186), (108, 8, 184), (109, 9, 182), (110, 10, 180), (111, 11, 178), (112, 12, 176), (113, 13, 174), (114, 14, 172), (115, 15, 170), (116, 16, 168), (117, 17, 166), (118, 18, 164), (119, 19, 162), (120, 20, 160), (121, 21, 158), (122, 22, 156), (123, 23, 154), (124, 24, 152), (125, 25, 150), (126, 26, 148), (127, 27, 146), (128, 28, 144), (129, 29, 142), (130, 30, 140), (131, 31, 138), (132, 32, 136), (133, 33, 134), (134, 34, 132), (135, 35, 130), (136, 36, 128), (137, 37, 126), (138, 38, 124), (139, 39, 122), (140, 40, 120), (141, 41, 118), (142, 42, 116), (143, 43, 114), (144, 44, 112), (145, 45, 110), (146, 46, 108), (147, 47, 106), (148, 48, 104), (149, 49, 102), (150, 50, 100), (151, 51, 98), (152, 52, 96), (153, 53, 94), (154, 54, 92), (155, 55, 90), (156, 56, 88), (157, 57, 86), (158, 58, 84), (159, 59, 82), (160, 60, 80), (161, 61, 78), (162, 62, 76), (163, 63, 74), (164, 64, 72), (165, 65, 70), (166, 66, 68), (167, 67, 66), (168, 68, 64), (169, 69, 62), (170, 70, 60), (171, 71, 58), (172, 72, 56), (173, 73, 54), (174, 74, 52), (175, 75, 50), (176, 76, 48), (177, 77, 46), (178, 78, 44), (179, 79, 42), (180, 80, 40), (181, 81, 38), (182, 82, 36), (183, 83, 34), (184, 84, 32), (185, 85, 30), (186, 86, 28), (187, 87, 26), (188, 88, 24), (189, 89, 22), (190, 90, 20), (191, 91, 18), (192, 92, 16), (193, 93, 14), (194, 94, 12), (195, 95, 10), (196, 96, 8), (197, 97, 6), (198, 98, 4), (199, 99, 2), (200, 100, 0), (0, 101, 199), (1, 102, 197), (2, 103, 195), (3, 104, 193), (4, 105, 191), (5, 106, 189), (6, 107, 187), (7, 108, 185), (8, 109, 183), (9, 110, 181), (10, 111, 179), (11, 112, 177), (12, 113, 175), (13, 114, 173), (14, 115, 171), (15, 116, 169), (16, 117, 167), (17, 118, 165), (18, 119, 163), (19, 120, 161), (20, 121, 159), (21, 122, 157), (22, 123, 155), (23, 124, 153), (24, 125, 151), (25, 126, 149), (26, 127, 147), (27, 128, 145), (28, 129, 143), (29, 130, 141), (30, 131, 139), (31, 132, 137), (32, 133, 135), (33, 134, 133), (34, 135, 131), (35, 136, 129), (36, 137, 127), (37, 138, 125), (38, 139, 123), (39, 140, 121), (40, 141, 119), (41, 142, 117), (42, 143, 115), (43, 144, 113), (44, 145, 111), (45, 146, 109), (46, 147, 107), (47, 148, 105), (48, 149, 103), (49, 150, 101), (50, 151, 99), (51, 152, 97), (52, 153, 95), (53, 154, 93), (54, 155, 91), (55, 156, 89), (56, 157, 87), (57, 158, 85), (58, 159, 83), (59, 160, 81), (60, 161, 79), (61, 162, 77), (62, 163, 75), (63, 164, 73), (64, 165, 71), (65, 166, 69), (66, 167, 67), (67, 168, 65), (68, 169, 63), (69, 170, 61), (70, 171, 59), (71, 172, 57), (72, 173, 55), (73, 174, 53), (74, 175, 51), (75, 176, 49), (76, 177, 47), (77, 178, 45), (78, 179, 43), (79, 180, 41), (80, 181, 39), (81, 182, 37), (82, 183, 35), (83, 184, 33), (84, 185, 31), (85, 186, 29), (86, 187, 27), (87, 188, 25), (88, 189, 23), (89, 190, 21), (90, 191, 19), (91, 192, 17), (92, 193, 15), (93, 194, 13), (94, 195, 11), (95, 196, 9), (96, 197, 7), (97, 198, 5), (98, 199, 3), (99, 200, 1)]"
     ]
    }
   ],
   "source": [
    "show(res)"
   ]
  },
  {
   "cell_type": "code",
   "execution_count": 77,
   "metadata": {},
   "outputs": [
    {
     "data": {
      "text/plain": [
       "1"
      ]
     },
     "execution_count": 77,
     "metadata": {},
     "output_type": "execute_result"
    }
   ],
   "source": [
    "4 % 3"
   ]
  },
  {
   "cell_type": "code",
   "execution_count": null,
   "metadata": {},
   "outputs": [],
   "source": [
    "function fully_nearest(n):\n",
    "    "
   ]
  }
 ],
 "metadata": {
  "kernelspec": {
   "display_name": "Julia 1.5.3",
   "language": "julia",
   "name": "julia-1.5"
  },
  "language_info": {
   "file_extension": ".jl",
   "mimetype": "application/julia",
   "name": "julia",
   "version": "1.5.3"
  }
 },
 "nbformat": 4,
 "nbformat_minor": 4
}
